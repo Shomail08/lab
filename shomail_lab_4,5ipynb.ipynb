{
  "nbformat": 4,
  "nbformat_minor": 0,
  "metadata": {
    "colab": {
      "provenance": [],
      "authorship_tag": "ABX9TyN8kOEMsJ6nxOGyAJWy3XMa",
      "include_colab_link": true
    },
    "kernelspec": {
      "name": "python3",
      "display_name": "Python 3"
    },
    "language_info": {
      "name": "python"
    }
  },
  "cells": [
    {
      "cell_type": "markdown",
      "metadata": {
        "id": "view-in-github",
        "colab_type": "text"
      },
      "source": [
        "<a href=\"https://colab.research.google.com/github/Shomail08/lab/blob/main/shomail_lab_4%2C5ipynb.ipynb\" target=\"_parent\"><img src=\"https://colab.research.google.com/assets/colab-badge.svg\" alt=\"Open In Colab\"/></a>"
      ]
    },
    {
      "cell_type": "markdown",
      "source": [
        "Access List Items:"
      ],
      "metadata": {
        "id": "vT6GmAkI57zs"
      }
    },
    {
      "cell_type": "code",
      "execution_count": 28,
      "metadata": {
        "colab": {
          "base_uri": "https://localhost:8080/"
        },
        "id": "iDZ2SQg22ZPM",
        "outputId": "2a72759c-c593-4e30-94a9-11829e42f099"
      },
      "outputs": [
        {
          "output_type": "stream",
          "name": "stdout",
          "text": [
            "['pineapple', 'banana', 'cherry', 'mango']\n"
          ]
        }
      ],
      "source": [
        "fruits = [\"pineapple\", \"banana\", \"cherry\", \"mango\"]\n",
        "\n",
        "print(fruits)\n",
        "#print(fruits[-1])\n"
      ]
    },
    {
      "cell_type": "markdown",
      "source": [
        "Change List Items:"
      ],
      "metadata": {
        "id": "IopWNQl95_zq"
      }
    },
    {
      "cell_type": "code",
      "source": [
        "colors = [\"red\", \"green\", \"yellow\", \"blue\"]\n",
        "\n",
        "colors[1] = \"blue\"\n",
        "print(colors)\n"
      ],
      "metadata": {
        "colab": {
          "base_uri": "https://localhost:8080/"
        },
        "id": "TWTpDJMY5HY1",
        "outputId": "e64b73f2-6aec-4752-f6f1-b8d13cd5a8ed"
      },
      "execution_count": 20,
      "outputs": [
        {
          "output_type": "stream",
          "name": "stdout",
          "text": [
            "['red', 'blue', 'yellow', 'blue']\n"
          ]
        }
      ]
    },
    {
      "cell_type": "markdown",
      "source": [
        "Add List Items:"
      ],
      "metadata": {
        "id": "aCya9s8s6DSZ"
      }
    },
    {
      "cell_type": "code",
      "source": [
        "numbers = [1, 2, 3, 4, 5]\n",
        "\n",
        "numbers.append(10)\n",
        "print(numbers)\n"
      ],
      "metadata": {
        "colab": {
          "base_uri": "https://localhost:8080/"
        },
        "id": "jTsk0pXE5LlE",
        "outputId": "49babcba-1085-4a89-938f-4b48739aaa7c"
      },
      "execution_count": 21,
      "outputs": [
        {
          "output_type": "stream",
          "name": "stdout",
          "text": [
            "[1, 2, 3, 4, 5, 10]\n"
          ]
        }
      ]
    },
    {
      "cell_type": "markdown",
      "source": [
        "Remove List Items:"
      ],
      "metadata": {
        "id": "UnIBatRH6HBi"
      }
    },
    {
      "cell_type": "code",
      "source": [
        "animals = [\"cat\", \"dog\", \"bird\", \"snake\"]\n",
        "\n",
        "del animals[2]\n",
        "print(animals)\n"
      ],
      "metadata": {
        "colab": {
          "base_uri": "https://localhost:8080/"
        },
        "id": "2pkwxUJt5P7D",
        "outputId": "33a28a28-c751-4df8-ced7-18c47cea2a42"
      },
      "execution_count": 4,
      "outputs": [
        {
          "output_type": "stream",
          "name": "stdout",
          "text": [
            "['cat', 'dog', 'snake']\n"
          ]
        }
      ]
    },
    {
      "cell_type": "markdown",
      "source": [
        "Loop Lists:"
      ],
      "metadata": {
        "id": "rUOIVCr26Ksc"
      }
    },
    {
      "cell_type": "code",
      "source": [
        "cities = [\"abbottabad\", \"haripur\", \"mang\", \"khanpur\"]\n",
        "\n",
        "for city in cities:\n",
        "  print(city)\n"
      ],
      "metadata": {
        "colab": {
          "base_uri": "https://localhost:8080/"
        },
        "id": "7_-QCGLk5Tb7",
        "outputId": "ff2e14c7-dde8-4372-9027-1c39d945555f"
      },
      "execution_count": 22,
      "outputs": [
        {
          "output_type": "stream",
          "name": "stdout",
          "text": [
            "abbottabad\n",
            "haripur\n",
            "mang\n",
            "khanpur\n"
          ]
        }
      ]
    },
    {
      "cell_type": "markdown",
      "source": [
        "List Comprehension:"
      ],
      "metadata": {
        "id": "78wZF34W6Ouh"
      }
    },
    {
      "cell_type": "code",
      "source": [
        "numbers = range(1, 11)\n",
        "\n",
        "squared_numbers = [num * num for num in numbers]\n",
        "print(squared_numbers)\n"
      ],
      "metadata": {
        "colab": {
          "base_uri": "https://localhost:8080/"
        },
        "id": "q-gguWEj5WmL",
        "outputId": "2f793b74-2609-4506-ee20-33f96c550094"
      },
      "execution_count": 24,
      "outputs": [
        {
          "output_type": "stream",
          "name": "stdout",
          "text": [
            "[1, 4, 9, 16, 25, 36, 49, 64, 81, 100]\n"
          ]
        }
      ]
    },
    {
      "cell_type": "markdown",
      "source": [
        "Sort Lists:"
      ],
      "metadata": {
        "id": "9ZhOZtBp6RZB"
      }
    },
    {
      "cell_type": "code",
      "source": [
        "names = [\"shomail\", \"ali\", \"bilawal\", \"hammad\"]\n",
        "\n",
        "names.sort()\n",
        "print(names)\n"
      ],
      "metadata": {
        "colab": {
          "base_uri": "https://localhost:8080/"
        },
        "id": "mk06vkok5ZwL",
        "outputId": "3e6082e4-ebf8-4777-e1e8-be381e560f53"
      },
      "execution_count": 16,
      "outputs": [
        {
          "output_type": "stream",
          "name": "stdout",
          "text": [
            "['ali', 'bilawal', 'hammad', 'shomail']\n"
          ]
        }
      ]
    },
    {
      "cell_type": "markdown",
      "source": [
        "Copy Lists:"
      ],
      "metadata": {
        "id": "ilQYN7je6T7h"
      }
    },
    {
      "cell_type": "code",
      "source": [
        "fruits = [\"apple\", \"mango\", \"banana\"]\n",
        "\n",
        "copied_fruits = fruits[:]\n",
        "print(copied_fruits)\n"
      ],
      "metadata": {
        "colab": {
          "base_uri": "https://localhost:8080/"
        },
        "id": "etu_oHd_5f1c",
        "outputId": "9f5ccc65-143e-4673-973d-d6012e57a031"
      },
      "execution_count": 25,
      "outputs": [
        {
          "output_type": "stream",
          "name": "stdout",
          "text": [
            "['apple', 'mango', 'banana']\n"
          ]
        }
      ]
    },
    {
      "cell_type": "markdown",
      "source": [
        "Join Lists:"
      ],
      "metadata": {
        "id": "4AIxPKVK6W_j"
      }
    },
    {
      "cell_type": "code",
      "source": [
        "list1 = [1, 2, 3]\n",
        "list2 = [4, 5, 6]\n",
        "\n",
        "combined_list = list1 + list2\n",
        "print(combined_list)\n"
      ],
      "metadata": {
        "colab": {
          "base_uri": "https://localhost:8080/"
        },
        "id": "jDjOTjeQ5hdL",
        "outputId": "ccda042f-855b-47a9-f81a-e72f54f3c313"
      },
      "execution_count": 9,
      "outputs": [
        {
          "output_type": "stream",
          "name": "stdout",
          "text": [
            "[1, 2, 3, 4, 5, 6]\n"
          ]
        }
      ]
    },
    {
      "cell_type": "markdown",
      "source": [
        "List Methods:"
      ],
      "metadata": {
        "id": "jei4a9nr6Zfl"
      }
    },
    {
      "cell_type": "code",
      "source": [
        "fruits = [\"apple\", \"banana\", \"cherry\"]\n",
        "\n",
        "fruits.append(\"mango\")\n",
        "print(fruits)\n",
        "\n",
        "\n",
        "last_fruit = fruits.pop()\n",
        "print(fruits)\n",
        "print(last_fruit)\n"
      ],
      "metadata": {
        "colab": {
          "base_uri": "https://localhost:8080/"
        },
        "id": "ym39AQMh5k4z",
        "outputId": "fc079f25-7134-4f72-8143-eaf0126b1903"
      },
      "execution_count": 10,
      "outputs": [
        {
          "output_type": "stream",
          "name": "stdout",
          "text": [
            "['apple', 'banana', 'cherry', 'mango']\n",
            "['apple', 'banana', 'cherry']\n",
            "mango\n"
          ]
        }
      ]
    },
    {
      "cell_type": "markdown",
      "source": [
        "Combining Lists and List Comprehension:"
      ],
      "metadata": {
        "id": "KB9O2f7Y6cGM"
      }
    },
    {
      "cell_type": "code",
      "source": [
        "list1 = [1, 2, 3, 4, 5]\n",
        "list2 = [6, 7, 8, 9, 10]\n",
        "\n",
        "sum_list = [x + y for x, y in zip(list1, list2)]\n",
        "print(sum_list)  # Output: [7, 9, 11, 13, 15]\n"
      ],
      "metadata": {
        "colab": {
          "base_uri": "https://localhost:8080/"
        },
        "id": "AJG5mSqs5oAz",
        "outputId": "3ec2c4ed-5e5d-4579-d253-29f6d7921c2f"
      },
      "execution_count": 11,
      "outputs": [
        {
          "output_type": "stream",
          "name": "stdout",
          "text": [
            "[7, 9, 11, 13, 15]\n"
          ]
        }
      ]
    },
    {
      "cell_type": "markdown",
      "source": [
        "Filtering and Sorting:"
      ],
      "metadata": {
        "id": "EJ83Ztf66fZM"
      }
    },
    {
      "cell_type": "code",
      "source": [
        "numbers = [1, 2, 3, 4, 5, 6, 7, 8, 9, 10]\n",
        "\n",
        "even_numbers = [num for num in numbers if num % 2 == 0]\n",
        "\n",
        "even_numbers.sort(reverse=True)\n",
        "print(even_numbers)\n"
      ],
      "metadata": {
        "colab": {
          "base_uri": "https://localhost:8080/"
        },
        "id": "rX3d3s2I5rH9",
        "outputId": "800478fd-41ef-402f-f192-95e85e36f2be"
      },
      "execution_count": 12,
      "outputs": [
        {
          "output_type": "stream",
          "name": "stdout",
          "text": [
            "[10, 8, 6, 4, 2]\n"
          ]
        }
      ]
    },
    {
      "cell_type": "markdown",
      "source": [
        "List Slicing and Reversing:"
      ],
      "metadata": {
        "id": "7uxdn1jh7ZAZ"
      }
    },
    {
      "cell_type": "code",
      "source": [
        "numbers = list(range(1, 11))\n",
        "\n",
        "even_numbers_reversed = numbers[::2][::-1]\n",
        "\n",
        "print(even_numbers_reversed)\n"
      ],
      "metadata": {
        "colab": {
          "base_uri": "https://localhost:8080/"
        },
        "id": "olhhMF6v7bCm",
        "outputId": "0bf71611-273e-4d3f-c9d3-3e64c4ab0deb"
      },
      "execution_count": 13,
      "outputs": [
        {
          "output_type": "stream",
          "name": "stdout",
          "text": [
            "[9, 7, 5, 3, 1]\n"
          ]
        }
      ]
    },
    {
      "cell_type": "markdown",
      "source": [
        "Combining Lists and List Methods:"
      ],
      "metadata": {
        "id": "GVIULQrU7fid"
      }
    },
    {
      "cell_type": "code",
      "source": [
        "even_list = [2, 4, 6, 8]\n",
        "odd_list = [1, 3, 5, 7, 9]\n",
        "\n",
        "combined_list = []\n",
        "for even, odd in zip(even_list, odd_list):\n",
        "  combined_list.extend([even, odd])\n",
        "\n",
        "if len(even_list) > len(odd_list):\n",
        "  combined_list.extend(even_list[len(odd_list):])\n",
        "elif len(odd_list) > len(even_list):\n",
        "  combined_list.extend(odd_list[len(even_list):])\n",
        "\n",
        "print(combined_list)\n"
      ],
      "metadata": {
        "colab": {
          "base_uri": "https://localhost:8080/"
        },
        "id": "tnWFW8ws7gXN",
        "outputId": "5718a917-9e84-4cd5-cc63-8393b67542bc"
      },
      "execution_count": 14,
      "outputs": [
        {
          "output_type": "stream",
          "name": "stdout",
          "text": [
            "[2, 1, 4, 3, 6, 5, 8, 7, 9]\n"
          ]
        }
      ]
    }
  ]
}